{
 "cells": [
  {
   "cell_type": "code",
   "execution_count": null,
   "metadata": {},
   "outputs": [
    {
     "ename": "TypeError",
     "evalue": "Server.get_objects_node() takes 1 positional argument but 2 were given",
     "output_type": "error",
     "traceback": [
      "\u001b[1;31m---------------------------------------------------------------------------\u001b[0m",
      "\u001b[1;31mTypeError\u001b[0m                                 Traceback (most recent call last)",
      "Cell \u001b[1;32mIn[18], line 17\u001b[0m\n\u001b[0;32m     14\u001b[0m name \u001b[38;5;241m=\u001b[39m \u001b[38;5;124m\"\u001b[39m\u001b[38;5;124mMy_OPC_NameSpace\u001b[39m\u001b[38;5;124m\"\u001b[39m\n\u001b[0;32m     15\u001b[0m addspace \u001b[38;5;241m=\u001b[39m myOPCServer\u001b[38;5;241m.\u001b[39mregister_namespace(name)\n\u001b[1;32m---> 17\u001b[0m node \u001b[38;5;241m=\u001b[39m \u001b[43mmyOPCServer\u001b[49m\u001b[38;5;241;43m.\u001b[39;49m\u001b[43mget_objects_node\u001b[49m\u001b[43m(\u001b[49m\u001b[43muatypes\u001b[49m\u001b[38;5;241;43m.\u001b[39;49m\u001b[43mNodeId\u001b[49m\u001b[43m(\u001b[49m\u001b[43mnodeidtype\u001b[49m\u001b[38;5;241;43m=\u001b[39;49m\u001b[38;5;28;43mstr\u001b[39;49m\u001b[43m)\u001b[49m\u001b[43m)\u001b[49m\n\u001b[0;32m     19\u001b[0m \u001b[38;5;28mprint\u001b[39m(node\u001b[38;5;241m.\u001b[39mget_data_type)\n\u001b[0;32m     21\u001b[0m param \u001b[38;5;241m=\u001b[39m node\u001b[38;5;241m.\u001b[39madd_object(addspace, \u001b[38;5;124m\"\u001b[39m\u001b[38;5;124mParameters\u001b[39m\u001b[38;5;124m\"\u001b[39m)\n",
      "\u001b[1;31mTypeError\u001b[0m: Server.get_objects_node() takes 1 positional argument but 2 were given"
     ]
    }
   ],
   "source": [
    "from opcua import Server\n",
    "from opcua.ua import uatypes\n",
    "import random\n",
    "import time\n",
    "\n",
    "myOPCServer = Server()\n",
    "\n",
    "\n",
    "url = \"opc.tcp://127.0.0.1:4850\"\n",
    "myOPCServer.set_endpoint(url)\n",
    "\n",
    "myOPCServer.set_server_name(\"Python OPC UA Server\")\n",
    "\n",
    "name = \"My_OPC_NameSpace\"\n",
    "addspace = myOPCServer.register_namespace(name)\n",
    "\n",
    "\n",
    "node = myOPCServer.get_objects_node()\n",
    "\n",
    "print(node.get_data_type)\n",
    "\n",
    "param = node.add_object(addspace, \"Parameters\")\n",
    "\n",
    "ReadAngle = param.add_variable(addspace,  \"ReadAngle\", 0)\n",
    "Angle = param.add_variable(addspace,  \"Angle\", 0)\n",
    "\n",
    "ReadAngle.set_writable()\n",
    "Angle.set_writable()\n",
    "\n",
    "\n",
    "# myOPCServer.start()\n",
    "# print(f\"Server Started at {url}\")\n",
    "\n",
    "# try:\n",
    "#     AngleValue = 0\n",
    "#     while True:\n",
    "        \n",
    "#         if AngleValue >= 360:\n",
    "#             AngleValue = 0\n",
    "#         else:\n",
    "#             AngleValue += 1\n",
    "\n",
    "#         print(f'NodeId_Temp: {myOPCServer.get_node(Angle)} : {AngleValue}')\n",
    "\n",
    "#         Angle.set_value(int(AngleValue))\n",
    "#         time.sleep(0.1)\n",
    "# except KeyboardInterrupt:\n",
    "#     print(\"Server stopped\")\n",
    "# finally:\n",
    "#     myOPCServer.stop()"
   ]
  },
  {
   "cell_type": "code",
   "execution_count": 7,
   "metadata": {},
   "outputs": [],
   "source": [
    "myOPCServer.stop()"
   ]
  },
  {
   "cell_type": "code",
   "execution_count": 4,
   "metadata": {},
   "outputs": [
    {
     "data": {
      "text/plain": [
       "<bound method Node.get_data_type of Node(TwoByteNodeId(i=85))>"
      ]
     },
     "execution_count": 4,
     "metadata": {},
     "output_type": "execute_result"
    }
   ],
   "source": [
    "node.get_data_type"
   ]
  },
  {
   "cell_type": "code",
   "execution_count": null,
   "metadata": {},
   "outputs": [],
   "source": []
  },
  {
   "cell_type": "code",
   "execution_count": null,
   "metadata": {},
   "outputs": [
    {
     "data": {
      "text/plain": [
       "Node(TwoByteNodeId(i=85))"
      ]
     },
     "execution_count": 10,
     "metadata": {},
     "output_type": "execute_result"
    }
   ],
   "source": []
  },
  {
   "cell_type": "code",
   "execution_count": null,
   "metadata": {},
   "outputs": [],
   "source": []
  },
  {
   "cell_type": "code",
   "execution_count": null,
   "metadata": {},
   "outputs": [
    {
     "name": "stdout",
     "output_type": "stream",
     "text": [
      "Server Started at opc.tcp://192.168.0.10:4840\n"
     ]
    }
   ],
   "source": []
  }
 ],
 "metadata": {
  "kernelspec": {
   "display_name": "CondaEnv",
   "language": "python",
   "name": "python3"
  },
  "language_info": {
   "codemirror_mode": {
    "name": "ipython",
    "version": 3
   },
   "file_extension": ".py",
   "mimetype": "text/x-python",
   "name": "python",
   "nbconvert_exporter": "python",
   "pygments_lexer": "ipython3",
   "version": "3.10.13"
  }
 },
 "nbformat": 4,
 "nbformat_minor": 2
}
