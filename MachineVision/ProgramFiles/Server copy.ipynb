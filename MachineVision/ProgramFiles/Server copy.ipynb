{
 "cells": [
  {
   "cell_type": "code",
   "execution_count": 7,
   "metadata": {},
   "outputs": [
    {
     "name": "stderr",
     "output_type": "stream",
     "text": [
      "Endpoints other than open requested but private key and certificate are not set.\n",
      "Listening on 127.0.0.1:4850\n"
     ]
    },
    {
     "name": "stdout",
     "output_type": "stream",
     "text": [
      "Server is running at ParseResult(scheme='opc.tcp', netloc='127.0.0.1:4850', path='', params='', query='', fragment='')\n",
      "0.1\n",
      "0.2\n",
      "0.30000000000000004\n",
      "0.4\n",
      "0.5\n",
      "0.6\n",
      "0.7\n",
      "0.7999999999999999\n",
      "0.8999999999999999\n",
      "0.9999999999999999\n",
      "1.0999999999999999\n",
      "1.2\n",
      "1.3\n",
      "1.4000000000000001\n",
      "1.5000000000000002\n",
      "1.6000000000000003\n",
      "Server stopped\n"
     ]
    }
   ],
   "source": [
    "from opcua import Server\n",
    "from datetime import datetime\n",
    "import time\n",
    "\n",
    "# Create an instance of the server\n",
    "server = Server()\n",
    "\n",
    "# Set endpoint URL\n",
    "server.set_endpoint(\"opc.tcp://127.0.0.1:4850\")\n",
    "\n",
    "# Set server name and certificate path\n",
    "server.set_server_name(\"Python OPC UA Server\")\n",
    "#server.set_security_string(\"None\")  # For testing only. Consider using security in production.\n",
    "\n",
    "# Set up a namespace\n",
    "uri = \"http://example.org\"\n",
    "idx = server.register_namespace(uri)\n",
    "\n",
    "# Create objects in the server address space\n",
    "objects = server.nodes.objects\n",
    "my_object = objects.add_object(idx, \"MyObject\")\n",
    "my_variable = my_object.add_variable(idx, \"MyVariable\", 0)\n",
    "my_variable.set_writable()  # Allow writing to the variable\n",
    "\n",
    "# Start the server\n",
    "server.start()\n",
    "\n",
    "print(\"Server is running at {}\".format(server.endpoint))\n",
    "\n",
    "try:\n",
    "    count = 0.0\n",
    "    while True:\n",
    "        count += 0.1\n",
    "        print(count)\n",
    "        my_variable.set_value(count)\n",
    "        # Simulate some change in data\n",
    "        #my_variable.set_value(0)\n",
    "        time.sleep(1)\n",
    "except KeyboardInterrupt:\n",
    "    print(\"Server stopped\")\n",
    "finally:\n",
    "    server.stop()\n"
   ]
  }
 ],
 "metadata": {
  "kernelspec": {
   "display_name": "CondaEnv",
   "language": "python",
   "name": "python3"
  },
  "language_info": {
   "codemirror_mode": {
    "name": "ipython",
    "version": 3
   },
   "file_extension": ".py",
   "mimetype": "text/x-python",
   "name": "python",
   "nbconvert_exporter": "python",
   "pygments_lexer": "ipython3",
   "version": "3.10.13"
  }
 },
 "nbformat": 4,
 "nbformat_minor": 2
}
