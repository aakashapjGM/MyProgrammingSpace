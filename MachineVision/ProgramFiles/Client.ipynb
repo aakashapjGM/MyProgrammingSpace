{
 "cells": [
  {
   "cell_type": "code",
   "execution_count": 1,
   "metadata": {},
   "outputs": [],
   "source": [
    "from opcua import Client\n",
    "import time"
   ]
  },
  {
   "cell_type": "code",
   "execution_count": 4,
   "metadata": {},
   "outputs": [],
   "source": [
    "url = \"opc.tcp://COMRADE:49320\"\n"
   ]
  },
  {
   "cell_type": "code",
   "execution_count": 5,
   "metadata": {},
   "outputs": [
    {
     "name": "stdout",
     "output_type": "stream",
     "text": [
      "139\n",
      "140\n",
      "142\n",
      "143\n",
      "144\n",
      "145\n",
      "147\n",
      "148\n",
      "149\n",
      "150\n",
      "152\n",
      "153\n",
      "154\n",
      "155\n",
      "157\n",
      "158\n",
      "159\n",
      "160\n",
      "162\n",
      "163\n",
      "164\n",
      "165\n",
      "167\n",
      "168\n",
      "169\n",
      "170\n",
      "171\n",
      "172\n",
      "174\n",
      "175\n",
      "176\n",
      "177\n",
      "178\n",
      "180\n",
      "181\n",
      "182\n",
      "183\n",
      "185\n",
      "186\n",
      "187\n",
      "188\n",
      "189\n",
      "191\n",
      "192\n",
      "193\n",
      "194\n",
      "195\n",
      "196\n",
      "198\n",
      "199\n",
      "200\n",
      "0\n",
      "2\n",
      "3\n",
      "4\n",
      "5\n",
      "7\n",
      "8\n",
      "9\n",
      "10\n",
      "11\n",
      "12\n",
      "Server stopped\n"
     ]
    },
    {
     "name": "stderr",
     "output_type": "stream",
     "text": [
      "Exception in thread Thread-6:\n",
      "Traceback (most recent call last):\n",
      "  File \"c:\\Users\\aakas\\anaconda3\\envs\\CondaEnv\\lib\\threading.py\", line 1016, in _bootstrap_inner\n",
      "    self.run()\n",
      "  File \"c:\\Users\\aakas\\anaconda3\\envs\\CondaEnv\\lib\\site-packages\\opcua\\client\\client.py\", line 66, in run\n",
      "    self.client.open_secure_channel(renew=True)\n",
      "  File \"c:\\Users\\aakas\\anaconda3\\envs\\CondaEnv\\lib\\site-packages\\opcua\\client\\client.py\", line 335, in open_secure_channel\n",
      "    result = self.uaclient.open_secure_channel(params)\n",
      "  File \"c:\\Users\\aakas\\anaconda3\\envs\\CondaEnv\\lib\\site-packages\\opcua\\client\\ua_client.py\", line 275, in open_secure_channel\n",
      "    return self._uasocket.open_secure_channel(params)\n",
      "  File \"c:\\Users\\aakas\\anaconda3\\envs\\CondaEnv\\lib\\site-packages\\opcua\\client\\ua_client.py\", line 207, in open_secure_channel\n",
      "    self._send_request(request, message_type=ua.MessageType.SecureOpen, callback=clb)\n",
      "  File \"c:\\Users\\aakas\\anaconda3\\envs\\CondaEnv\\lib\\site-packages\\opcua\\client\\ua_client.py\", line 72, in _send_request\n",
      "    self._socket.write(msg)\n",
      "  File \"c:\\Users\\aakas\\anaconda3\\envs\\CondaEnv\\lib\\site-packages\\opcua\\common\\utils.py\", line 118, in write\n",
      "    self.socket.sendall(data)\n",
      "ConnectionAbortedError: [WinError 10053] An established connection was aborted by the software in your host machine\n"
     ]
    }
   ],
   "source": [
    "client = Client(url)\n",
    "client.connect()\n",
    "\n",
    "\n",
    "nodeID  = client.get_root_node()\n",
    "object = client.get_objects_node()\n",
    "    \n",
    "try:\n",
    "    while True:\n",
    "        \n",
    "        Temp = client.get_node(\"ns=2;s=OPCUA_Simulator.OPCUA_Sim_Device.SimData\")\n",
    "        print(Temp.get_value())\n",
    "        time.sleep(0.1)\n",
    "\n",
    "except KeyboardInterrupt:\n",
    "    print(\"Server stopped\")\n",
    "finally:\n",
    "    client.disconnect()\n",
    "    \n"
   ]
  },
  {
   "cell_type": "code",
   "execution_count": null,
   "metadata": {},
   "outputs": [],
   "source": []
  },
  {
   "cell_type": "code",
   "execution_count": null,
   "metadata": {},
   "outputs": [],
   "source": []
  }
 ],
 "metadata": {
  "kernelspec": {
   "display_name": "CondaEnv",
   "language": "python",
   "name": "python3"
  },
  "language_info": {
   "codemirror_mode": {
    "name": "ipython",
    "version": 3
   },
   "file_extension": ".py",
   "mimetype": "text/x-python",
   "name": "python",
   "nbconvert_exporter": "python",
   "pygments_lexer": "ipython3",
   "version": "3.10.13"
  }
 },
 "nbformat": 4,
 "nbformat_minor": 2
}
