{
 "cells": [
  {
   "cell_type": "code",
   "execution_count": 18,
   "metadata": {},
   "outputs": [],
   "source": [
    "from opcua import Client\n",
    "import time"
   ]
  },
  {
   "cell_type": "code",
   "execution_count": 19,
   "metadata": {},
   "outputs": [],
   "source": [
    "url = \"opc.tcp://127.0.0.1:49321\"\n"
   ]
  },
  {
   "cell_type": "code",
   "execution_count": 21,
   "metadata": {},
   "outputs": [
    {
     "name": "stdout",
     "output_type": "stream",
     "text": [
      "Children of root are:  i=84 i=85\n",
      "Children of root are:  i=84 i=85\n",
      "Children of root are:  i=84 i=85\n",
      "Children of root are:  i=84 i=85\n",
      "Children of root are:  i=84 i=85\n"
     ]
    }
   ],
   "source": [
    "client = Client(url)\n",
    "client.connect()\n",
    "\n",
    "for _ in range(0, 5):\n",
    "    nodeID  = client.get_root_node()\n",
    "    object = client.get_objects_node()\n",
    "    Temp = client.get_node(\"ns=2;i=3\")\n",
    "    print(\"Children of root are: \",nodeID, object)\n",
    "#Temprature  = Temp.get_value()\n",
    "\n",
    "    \n",
    "\n",
    "\n",
    "# for nodeValue in nodeID.get_children():\n",
    "#     print(nodeValue)\n",
    "# time.sleep(2)\n"
   ]
  },
  {
   "cell_type": "code",
   "execution_count": null,
   "metadata": {},
   "outputs": [],
   "source": []
  },
  {
   "cell_type": "code",
   "execution_count": null,
   "metadata": {},
   "outputs": [],
   "source": []
  }
 ],
 "metadata": {
  "kernelspec": {
   "display_name": "CondaEnv",
   "language": "python",
   "name": "python3"
  },
  "language_info": {
   "codemirror_mode": {
    "name": "ipython",
    "version": 3
   },
   "file_extension": ".py",
   "mimetype": "text/x-python",
   "name": "python",
   "nbconvert_exporter": "python",
   "pygments_lexer": "ipython3",
   "version": "3.10.13"
  }
 },
 "nbformat": 4,
 "nbformat_minor": 2
}
