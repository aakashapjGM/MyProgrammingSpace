{
 "cells": [
  {
   "cell_type": "code",
   "execution_count": 1,
   "metadata": {},
   "outputs": [],
   "source": [
    "import cv2 as cv\n",
    "import matplotlib.pyplot as plt\n",
    "import time\n"
   ]
  },
  {
   "cell_type": "code",
   "execution_count": 3,
   "metadata": {},
   "outputs": [],
   "source": [
    "cap = cv.VideoCapture(0)\n",
    "\n",
    "width = int(cap.get(cv.CAP_PROP_FRAME_WIDTH))\n",
    "height = int(cap.get(cv.CAP_PROP_FRAME_HEIGHT))\n",
    "\n",
    "# Draw Function\n",
    "def draw(event, x, y, param, flag):\n",
    "    global p1, p2, topLeftClicked, bottomLeftCilcked\n",
    "\n",
    "    if event == cv.EVENT_LBUTTONDOWN:\n",
    "        if topLeftClicked and bottomLeftCilcked:\n",
    "            p1 = (0, 0)\n",
    "            p2 = (0, 0)\n",
    "            topLeftClicked = False\n",
    "            bottomLeftCilcked = False\n",
    "\n",
    "        if not topLeftClicked:\n",
    "            p1 = (x, y)\n",
    "            topLeftClicked = True\n",
    "        elif not bottomLeftCilcked:\n",
    "            p2 = (x, y)\n",
    "            bottomLeftCilcked = True\n",
    "\n",
    "# Global Variable\n",
    "p1 = (0, 0)\n",
    "p2 = (0, 0)\n",
    "topLeftClicked = False\n",
    "bottomLeftCilcked = False\n",
    "\n",
    "# Mouse Callback\n",
    "cv.namedWindow('myFrame')\n",
    "cv.setMouseCallback('myFrame', draw)\n",
    "\n",
    "\n",
    "while True:\n",
    "\n",
    "    ret, frame = cap.read()\n",
    "\n",
    "    if topLeftClicked:\n",
    "        cv.circle(frame, p1, 5, (0, 0, 255), -1)\n",
    "    \n",
    "    if topLeftClicked and bottomLeftCilcked:\n",
    "        cv.rectangle(frame, p1, p2, (0, 0, 255), 4)\n",
    "\n",
    "    cv.imshow(\"myFrame\", frame)\n",
    "\n",
    "    if cv.waitKey(1) & 0xFF == ord('q'):\n",
    "        break\n",
    "\n",
    "cap.release()\n",
    "cv.destroyAllWindows()\n",
    "\n",
    "\n"
   ]
  },
  {
   "cell_type": "code",
   "execution_count": null,
   "metadata": {},
   "outputs": [],
   "source": []
  }
 ],
 "metadata": {
  "kernelspec": {
   "display_name": "CondaEnv",
   "language": "python",
   "name": "python3"
  },
  "language_info": {
   "codemirror_mode": {
    "name": "ipython",
    "version": 3
   },
   "file_extension": ".py",
   "mimetype": "text/x-python",
   "name": "python",
   "nbconvert_exporter": "python",
   "pygments_lexer": "ipython3",
   "version": "3.10.13"
  }
 },
 "nbformat": 4,
 "nbformat_minor": 2
}
